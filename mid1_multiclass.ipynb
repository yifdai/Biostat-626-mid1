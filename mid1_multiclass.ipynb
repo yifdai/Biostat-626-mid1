{
 "cells": [
  {
   "cell_type": "code",
   "execution_count": 14,
   "metadata": {},
   "outputs": [],
   "source": [
    "import pandas as pd\n",
    "import numpy as np\n",
    "from sklearn import datasets\n",
    "from sklearn.model_selection import train_test_split, GridSearchCV\n",
    "from sklearn.ensemble import StackingClassifier, RandomForestClassifier\n",
    "from sklearn.linear_model import LogisticRegression\n",
    "from sklearn.neighbors import KNeighborsClassifier\n",
    "from sklearn.tree import DecisionTreeClassifier\n",
    "from sklearn.svm import SVC\n",
    "from sklearn.metrics import accuracy_score\n",
    "from sklearn.metrics import confusion_matrix"
   ]
  },
  {
   "cell_type": "code",
   "execution_count": 1,
   "metadata": {},
   "outputs": [],
   "source": [
    "# Training Data preprocessing\n",
    "with open(\"data/training_data.txt\", \"r\") as f, open(\"data/training_data_new.txt\", \"w\") as g:\n",
    "    for line in f:\n",
    "        line = line.strip()\n",
    "        line = ' '.join(line.split())\n",
    "        g.write(line + \"\\n\")"
   ]
  },
  {
   "cell_type": "code",
   "execution_count": 19,
   "metadata": {},
   "outputs": [
    {
     "name": "stdout",
     "output_type": "stream",
     "text": [
      "[5 7 4 6 1 3 2]\n"
     ]
    }
   ],
   "source": [
    "# load trainging data\n",
    "data=pd.read_csv('data/training_data_new.txt', sep=' ')\n",
    "\n",
    "data.drop(data.columns[0], axis=1, inplace=True)\n",
    "\n",
    "data['activity'] = pd.to_numeric(data['activity'])\n",
    "\n",
    "data['activity'] = data['activity'].apply(lambda x: x if x <= 7 else 7)\n",
    "\n",
    "# print(data.head(5))  # print the first 5 rows of the data\n",
    "print(data['activity'].unique())"
   ]
  },
  {
   "cell_type": "code",
   "execution_count": 20,
   "metadata": {},
   "outputs": [],
   "source": [
    "# Spliting training and testing data\n",
    "X, y = data.iloc[:, 1:], data.iloc[:, 0]\n",
    "\n",
    "X_train, X_test, y_train, y_test = train_test_split(X, y, test_size=0.2, random_state=42)"
   ]
  },
  {
   "cell_type": "code",
   "execution_count": 21,
   "metadata": {},
   "outputs": [
    {
     "name": "stdout",
     "output_type": "stream",
     "text": [
      "Best parameters: {'rf__max_depth': None, 'rf__n_estimators': 100, 'svm__C': 10, 'svm__kernel': 'linear'}\n"
     ]
    }
   ],
   "source": [
    "# define base learners\n",
    "base_learners = [\n",
    "    ('knn', KNeighborsClassifier()),\n",
    "    ('dt', DecisionTreeClassifier()),\n",
    "    ('svm', SVC(kernel='linear', probability=True)),\n",
    "    ('rf', RandomForestClassifier())\n",
    "]\n",
    "\n",
    "# define meta learner\n",
    "meta_learner = LogisticRegression()\n",
    "\n",
    "# create and fit stacking classifier\n",
    "stacking_clf = StackingClassifier(estimators=base_learners, final_estimator=meta_learner)\n",
    "\n",
    "# define parameter grid\n",
    "param_grid = {\n",
    "    'rf__n_estimators': [10, 50, 100],\n",
    "    'rf__max_depth': [None, 10, 20],\n",
    "    'svm__C': [0.1, 1, 10],\n",
    "    'svm__kernel': ['linear', 'rbf']\n",
    "}\n",
    "\n",
    "# using grid search to find the best parameters\n",
    "grid_search = GridSearchCV(estimator=stacking_clf, param_grid=param_grid, cv=5)\n",
    "grid_search.fit(X_train, y_train)\n",
    "\n",
    "# print the best parameters\n",
    "print(f'Best parameters: {grid_search.best_params_}')\n",
    "\n",
    "# use the best parameters to predict\n",
    "y_pred = grid_search.predict(X_test)\n"
   ]
  },
  {
   "cell_type": "code",
   "execution_count": 22,
   "metadata": {},
   "outputs": [
    {
     "name": "stdout",
     "output_type": "stream",
     "text": [
      "Accuracy: 0.99\n",
      "confusion matrix:\n",
      "[[251   0   0   0   0   0   0]\n",
      " [  0 205   0   0   0   0   0]\n",
      " [  0   0 216   0   0   0   0]\n",
      " [  0   0   0 262   6   0   1]\n",
      " [  0   0   0   5 280   0   0]\n",
      " [  0   0   0   0   0 266   1]\n",
      " [  1   0   0   0   0   0  60]]\n"
     ]
    }
   ],
   "source": [
    "# caculate accuracy\n",
    "accuracy = accuracy_score(y_test, y_pred)\n",
    "print(f'Accuracy: {accuracy:.2f}')\n",
    "\n",
    "# calculate confusion matrix\n",
    "cm = confusion_matrix(y_test, y_pred)\n",
    "print(\"confusion matrix:\")\n",
    "print(cm)"
   ]
  },
  {
   "cell_type": "code",
   "execution_count": 23,
   "metadata": {},
   "outputs": [],
   "source": [
    "# Testing Data preprocessing\n",
    "with open(\"data/test_data.txt\", \"r\") as f, open(\"data/test_data_new.txt\", \"w\") as g:\n",
    "    for line in f:\n",
    "        line = line.strip()\n",
    "        line = ' '.join(line.split())\n",
    "        g.write(line + \"\\n\")"
   ]
  },
  {
   "cell_type": "code",
   "execution_count": 24,
   "metadata": {},
   "outputs": [
    {
     "name": "stdout",
     "output_type": "stream",
     "text": [
      "         F1        F2        F3        F4        F5        F6        F7  \\\n",
      "0  0.030914 -0.008927  0.040382 -0.938504 -0.944626 -0.759334 -0.952398   \n",
      "1  0.042548  0.001079 -0.026236 -0.975516 -0.977502 -0.960146 -0.986694   \n",
      "2  0.038297 -0.011660 -0.025643 -0.993922 -0.979215 -0.973030 -0.994298   \n",
      "3  0.036205 -0.018148 -0.025240 -0.994845 -0.981534 -0.976175 -0.995169   \n",
      "4  0.038034 -0.013437 -0.032899 -0.993955 -0.977493 -0.984290 -0.994006   \n",
      "\n",
      "         F8        F9       F10  ...      F552      F553      F554      F555  \\\n",
      "0 -0.950281 -0.802483 -0.757099  ...  0.122830 -0.345684 -0.709087  0.006462   \n",
      "1 -0.978983 -0.966820 -0.757099  ... -0.314688 -0.142804 -0.600867 -0.083495   \n",
      "2 -0.980535 -0.977508 -0.799005  ...  0.114730 -0.209525 -0.645500 -0.034956   \n",
      "3 -0.983020 -0.980785 -0.798401  ...  0.164515 -0.359352 -0.738474 -0.017067   \n",
      "4 -0.977354 -0.985899 -0.798401  ... -0.056085 -0.544467 -0.846150 -0.002223   \n",
      "\n",
      "       F556      F557      F558      F559      F560      F561  \n",
      "0  0.162920 -0.825886  0.271151 -0.720559  0.276779 -0.051074  \n",
      "1  0.017500 -0.434375  0.920593 -0.698684  0.281322 -0.076825  \n",
      "2  0.202302  0.064103  0.145068 -0.703355  0.280062 -0.072302  \n",
      "3  0.154438  0.340134  0.296407 -0.699545  0.284093 -0.070079  \n",
      "4 -0.040046  0.736715 -0.118545 -0.692849  0.290701 -0.066849  \n",
      "\n",
      "[5 rows x 561 columns]\n"
     ]
    }
   ],
   "source": [
    "# load test data\n",
    "dt=pd.read_csv('data/test_data_new.txt', sep=' ')\n",
    "\n",
    "dt.drop(dt.columns[0], axis=1, inplace=True)\n",
    "\n",
    "# print the first 5 rows of the data\n",
    "print(dt.head(5))  "
   ]
  },
  {
   "cell_type": "code",
   "execution_count": 29,
   "metadata": {},
   "outputs": [
    {
     "data": {
      "text/plain": [
       "numpy.ndarray"
      ]
     },
     "execution_count": 29,
     "metadata": {},
     "output_type": "execute_result"
    }
   ],
   "source": [
    "y_new_pred = grid_search.predict(dt)"
   ]
  },
  {
   "cell_type": "code",
   "execution_count": 30,
   "metadata": {},
   "outputs": [],
   "source": [
    "np.savetxt(\"results/multiclass_re0.txt\", y_new_pred,fmt ='%d')"
   ]
  },
  {
   "cell_type": "code",
   "execution_count": 3,
   "metadata": {},
   "outputs": [
    {
     "name": "stdout",
     "output_type": "stream",
     "text": [
      "OS info: Windows-10-10.0.22000-SP0\n",
      "Python version: 3.10.9 | packaged by conda-forge | (main, Jan 11 2023, 15:15:40) [MSC v.1916 64 bit (AMD64)]\n",
      "Installed packages:\n",
      "asttokens==2.2.1\n",
      "backcall==0.2.0\n",
      "brotlipy==0.7.0\n",
      "certifi @ file:///C:/b/abs_85o_6fm0se/croot/certifi_1671487778835/work/certifi\n",
      "cffi @ file:///C:/b/abs_49n3v2hyhr/croot/cffi_1670423218144/work\n",
      "charset-normalizer @ file:///tmp/build/80754af9/charset-normalizer_1630003229654/work\n",
      "colorama @ file:///C:/b/abs_a9ozq0l032/croot/colorama_1672387194846/work\n",
      "comm==0.1.2\n",
      "conda==23.1.0\n",
      "conda-content-trust @ file:///C:/Windows/TEMP/abs_4589313d-fc62-4ccc-81c0-b801b4449e833j1ajrwu/croots/recipe/conda-content-trust_1658126379362/work\n",
      "conda-package-handling @ file:///C:/b/abs_fcga8w0uem/croot/conda-package-handling_1672865024290/work\n",
      "conda_package_streaming @ file:///C:/b/abs_0e5n5hdal3/croot/conda-package-streaming_1670508162902/work\n",
      "cryptography @ file:///C:/b/abs_b7d7drzbky/croot/cryptography_1673298763653/work\n",
      "debugpy==1.6.6\n",
      "decorator==5.1.1\n",
      "executing==1.2.0\n",
      "idna @ file:///C:/b/abs_bdhbebrioa/croot/idna_1666125572046/work\n",
      "ipykernel==6.21.3\n",
      "ipython==8.11.0\n",
      "jedi==0.18.2\n",
      "joblib==1.2.0\n",
      "jupyter_client==8.0.3\n",
      "jupyter_core==5.3.0\n",
      "matplotlib-inline==0.1.6\n",
      "menuinst @ file:///C:/Users/BUILDE~1/AppData/Local/Temp/abs_455sf5o0ct/croots/recipe/menuinst_1661805970842/work\n",
      "nest-asyncio==1.5.6\n",
      "numpy==1.24.2\n",
      "packaging==23.0\n",
      "pandas==1.5.3\n",
      "parso==0.8.3\n",
      "pickleshare==0.7.5\n",
      "platformdirs==3.1.1\n",
      "pluggy @ file:///C:/ci/pluggy_1648042746254/work\n",
      "prompt-toolkit==3.0.38\n",
      "psutil==5.9.4\n",
      "pure-eval==0.2.2\n",
      "pycosat @ file:///C:/b/abs_4b1rrw8pn9/croot/pycosat_1666807711599/work\n",
      "pycparser @ file:///tmp/build/80754af9/pycparser_1636541352034/work\n",
      "Pygments==2.14.0\n",
      "pyOpenSSL @ file:///opt/conda/conda-bld/pyopenssl_1643788558760/work\n",
      "PySocks @ file:///C:/ci_310/pysocks_1642089375450/work\n",
      "python-dateutil==2.8.2\n",
      "pytz==2022.7.1\n",
      "pywin32==305\n",
      "pyzmq==25.0.1\n",
      "requests @ file:///C:/ci/requests_1657735340829/work\n",
      "ruamel.yaml @ file:///C:/b/abs_30ee5qbthd/croot/ruamel.yaml_1666304562000/work\n",
      "ruamel.yaml.clib @ file:///C:/b/abs_aarblxbilo/croot/ruamel.yaml.clib_1666302270884/work\n",
      "scikit-learn==1.2.2\n",
      "scipy==1.10.1\n",
      "six @ file:///tmp/build/80754af9/six_1644875935023/work\n",
      "stack-data==0.6.2\n",
      "threadpoolctl==3.1.0\n",
      "toolz @ file:///C:/b/abs_cfvk6rc40d/croot/toolz_1667464080130/work\n",
      "tornado==6.2\n",
      "tqdm @ file:///C:/b/abs_0axbz66qik/croots/recipe/tqdm_1664392691071/work\n",
      "traitlets==5.9.0\n",
      "urllib3 @ file:///C:/b/abs_9bcwxczrvm/croot/urllib3_1673575521331/work\n",
      "wcwidth==0.2.6\n",
      "win-inet-pton @ file:///C:/ci_310/win_inet_pton_1642658466512/work\n",
      "wincertstore==0.2\n",
      "zstandard==0.18.0\n"
     ]
    }
   ],
   "source": [
    "import platform\n",
    "import sys\n",
    "import importlib\n",
    "\n",
    "# print the operation system info\n",
    "os_info = platform.platform()\n",
    "print(f\"OS info: {os_info}\")\n",
    "\n",
    "# print the version of python\n",
    "python_version = sys.version\n",
    "print(f\"Python version: {python_version}\")"
   ]
  }
 ],
 "metadata": {
  "kernelspec": {
   "display_name": "Python 3.10.9 ('base')",
   "language": "python",
   "name": "python3"
  },
  "language_info": {
   "codemirror_mode": {
    "name": "ipython",
    "version": 3
   },
   "file_extension": ".py",
   "mimetype": "text/x-python",
   "name": "python",
   "nbconvert_exporter": "python",
   "pygments_lexer": "ipython3",
   "version": "3.10.9"
  },
  "orig_nbformat": 4,
  "vscode": {
   "interpreter": {
    "hash": "fd16a1c2e981052eaae61151b9525ae9913f1f0d16bca6b7e7be9e0f29d739d2"
   }
  }
 },
 "nbformat": 4,
 "nbformat_minor": 2
}
