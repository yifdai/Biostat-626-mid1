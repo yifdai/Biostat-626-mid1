{
 "cells": [
  {
   "cell_type": "code",
   "execution_count": 14,
   "metadata": {},
   "outputs": [],
   "source": [
    "import pandas as pd\n",
    "import numpy as np\n",
    "from sklearn import datasets\n",
    "from sklearn.model_selection import train_test_split, GridSearchCV\n",
    "from sklearn.ensemble import StackingClassifier, RandomForestClassifier\n",
    "from sklearn.linear_model import LogisticRegression\n",
    "from sklearn.neighbors import KNeighborsClassifier\n",
    "from sklearn.tree import DecisionTreeClassifier\n",
    "from sklearn.svm import SVC\n",
    "from sklearn.metrics import accuracy_score\n",
    "from sklearn.metrics import confusion_matrix"
   ]
  },
  {
   "cell_type": "code",
   "execution_count": 1,
   "metadata": {},
   "outputs": [],
   "source": [
    "# Training Data preprocessing\n",
    "with open(\"data/training_data.txt\", \"r\") as f, open(\"data/training_data_new.txt\", \"w\") as g:\n",
    "    for line in f:\n",
    "        line = line.strip()\n",
    "        line = ' '.join(line.split())\n",
    "        g.write(line + \"\\n\")"
   ]
  },
  {
   "cell_type": "code",
   "execution_count": 19,
   "metadata": {},
   "outputs": [
    {
     "name": "stdout",
     "output_type": "stream",
     "text": [
      "[5 7 4 6 1 3 2]\n"
     ]
    }
   ],
   "source": [
    "# load trainging data\n",
    "data=pd.read_csv('data/training_data_new.txt', sep=' ')\n",
    "\n",
    "data.drop(data.columns[0], axis=1, inplace=True)\n",
    "\n",
    "data['activity'] = pd.to_numeric(data['activity'])\n",
    "\n",
    "data['activity'] = data['activity'].apply(lambda x: x if x <= 7 else 7)\n",
    "\n",
    "# print(data.head(5))  # print the first 5 rows of the data\n",
    "print(data['activity'].unique())"
   ]
  },
  {
   "cell_type": "code",
   "execution_count": 20,
   "metadata": {},
   "outputs": [],
   "source": [
    "# Spliting training and testing data\n",
    "X, y = data.iloc[:, 1:], data.iloc[:, 0]\n",
    "\n",
    "X_train, X_test, y_train, y_test = train_test_split(X, y, test_size=0.2, random_state=42)"
   ]
  },
  {
   "cell_type": "code",
   "execution_count": 21,
   "metadata": {},
   "outputs": [
    {
     "name": "stdout",
     "output_type": "stream",
     "text": [
      "Best parameters: {'rf__max_depth': None, 'rf__n_estimators': 100, 'svm__C': 10, 'svm__kernel': 'linear'}\n"
     ]
    }
   ],
   "source": [
    "# define base learners\n",
    "base_learners = [\n",
    "    ('knn', KNeighborsClassifier()),\n",
    "    ('dt', DecisionTreeClassifier()),\n",
    "    ('svm', SVC(kernel='linear', probability=True)),\n",
    "    ('rf', RandomForestClassifier())\n",
    "]\n",
    "\n",
    "# define meta learner\n",
    "meta_learner = LogisticRegression()\n",
    "\n",
    "# create and fit stacking classifier\n",
    "stacking_clf = StackingClassifier(estimators=base_learners, final_estimator=meta_learner)\n",
    "\n",
    "# define parameter grid\n",
    "param_grid = {\n",
    "    'rf__n_estimators': [10, 50, 100],\n",
    "    'rf__max_depth': [None, 10, 20],\n",
    "    'svm__C': [0.1, 1, 10],\n",
    "    'svm__kernel': ['linear', 'rbf']\n",
    "}\n",
    "\n",
    "# using grid search to find the best parameters\n",
    "grid_search = GridSearchCV(estimator=stacking_clf, param_grid=param_grid, cv=5)\n",
    "grid_search.fit(X_train, y_train)\n",
    "\n",
    "# print the best parameters\n",
    "print(f'Best parameters: {grid_search.best_params_}')\n",
    "\n",
    "# use the best parameters to predict\n",
    "y_pred = grid_search.predict(X_test)\n"
   ]
  },
  {
   "cell_type": "code",
   "execution_count": 22,
   "metadata": {},
   "outputs": [
    {
     "name": "stdout",
     "output_type": "stream",
     "text": [
      "Accuracy: 0.99\n",
      "confusion matrix:\n",
      "[[251   0   0   0   0   0   0]\n",
      " [  0 205   0   0   0   0   0]\n",
      " [  0   0 216   0   0   0   0]\n",
      " [  0   0   0 262   6   0   1]\n",
      " [  0   0   0   5 280   0   0]\n",
      " [  0   0   0   0   0 266   1]\n",
      " [  1   0   0   0   0   0  60]]\n"
     ]
    }
   ],
   "source": [
    "# caculate accuracy\n",
    "accuracy = accuracy_score(y_test, y_pred)\n",
    "print(f'Accuracy: {accuracy:.2f}')\n",
    "\n",
    "# calculate confusion matrix\n",
    "cm = confusion_matrix(y_test, y_pred)\n",
    "print(\"confusion matrix:\")\n",
    "print(cm)"
   ]
  },
  {
   "cell_type": "code",
   "execution_count": 23,
   "metadata": {},
   "outputs": [],
   "source": [
    "# Testing Data preprocessing\n",
    "with open(\"data/test_data.txt\", \"r\") as f, open(\"data/test_data_new.txt\", \"w\") as g:\n",
    "    for line in f:\n",
    "        line = line.strip()\n",
    "        line = ' '.join(line.split())\n",
    "        g.write(line + \"\\n\")"
   ]
  },
  {
   "cell_type": "code",
   "execution_count": 24,
   "metadata": {},
   "outputs": [
    {
     "name": "stdout",
     "output_type": "stream",
     "text": [
      "         F1        F2        F3        F4        F5        F6        F7  \\\n",
      "0  0.030914 -0.008927  0.040382 -0.938504 -0.944626 -0.759334 -0.952398   \n",
      "1  0.042548  0.001079 -0.026236 -0.975516 -0.977502 -0.960146 -0.986694   \n",
      "2  0.038297 -0.011660 -0.025643 -0.993922 -0.979215 -0.973030 -0.994298   \n",
      "3  0.036205 -0.018148 -0.025240 -0.994845 -0.981534 -0.976175 -0.995169   \n",
      "4  0.038034 -0.013437 -0.032899 -0.993955 -0.977493 -0.984290 -0.994006   \n",
      "\n",
      "         F8        F9       F10  ...      F552      F553      F554      F555  \\\n",
      "0 -0.950281 -0.802483 -0.757099  ...  0.122830 -0.345684 -0.709087  0.006462   \n",
      "1 -0.978983 -0.966820 -0.757099  ... -0.314688 -0.142804 -0.600867 -0.083495   \n",
      "2 -0.980535 -0.977508 -0.799005  ...  0.114730 -0.209525 -0.645500 -0.034956   \n",
      "3 -0.983020 -0.980785 -0.798401  ...  0.164515 -0.359352 -0.738474 -0.017067   \n",
      "4 -0.977354 -0.985899 -0.798401  ... -0.056085 -0.544467 -0.846150 -0.002223   \n",
      "\n",
      "       F556      F557      F558      F559      F560      F561  \n",
      "0  0.162920 -0.825886  0.271151 -0.720559  0.276779 -0.051074  \n",
      "1  0.017500 -0.434375  0.920593 -0.698684  0.281322 -0.076825  \n",
      "2  0.202302  0.064103  0.145068 -0.703355  0.280062 -0.072302  \n",
      "3  0.154438  0.340134  0.296407 -0.699545  0.284093 -0.070079  \n",
      "4 -0.040046  0.736715 -0.118545 -0.692849  0.290701 -0.066849  \n",
      "\n",
      "[5 rows x 561 columns]\n"
     ]
    }
   ],
   "source": [
    "# load test data\n",
    "dt=pd.read_csv('data/test_data_new.txt', sep=' ')\n",
    "\n",
    "dt.drop(dt.columns[0], axis=1, inplace=True)\n",
    "\n",
    "# print the first 5 rows of the data\n",
    "print(dt.head(5))  "
   ]
  },
  {
   "cell_type": "code",
   "execution_count": 29,
   "metadata": {},
   "outputs": [
    {
     "data": {
      "text/plain": [
       "numpy.ndarray"
      ]
     },
     "execution_count": 29,
     "metadata": {},
     "output_type": "execute_result"
    }
   ],
   "source": [
    "y_new_pred = grid_search.predict(dt)"
   ]
  },
  {
   "cell_type": "code",
   "execution_count": 30,
   "metadata": {},
   "outputs": [],
   "source": [
    "np.savetxt(\"results/multiclass_re0.txt\", y_new_pred,fmt ='%d')"
   ]
  }
 ],
 "metadata": {
  "kernelspec": {
   "display_name": "Python 3.10.9 ('base')",
   "language": "python",
   "name": "python3"
  },
  "language_info": {
   "codemirror_mode": {
    "name": "ipython",
    "version": 3
   },
   "file_extension": ".py",
   "mimetype": "text/x-python",
   "name": "python",
   "nbconvert_exporter": "python",
   "pygments_lexer": "ipython3",
   "version": "3.10.9"
  },
  "orig_nbformat": 4,
  "vscode": {
   "interpreter": {
    "hash": "fd16a1c2e981052eaae61151b9525ae9913f1f0d16bca6b7e7be9e0f29d739d2"
   }
  }
 },
 "nbformat": 4,
 "nbformat_minor": 2
}
